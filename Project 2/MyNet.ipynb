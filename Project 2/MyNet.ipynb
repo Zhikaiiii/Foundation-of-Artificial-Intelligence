{
 "cells": [
  {
   "cell_type": "code",
   "execution_count": 1,
   "metadata": {
    "colab": {
     "base_uri": "https://localhost:8080/",
     "height": 121
    },
    "colab_type": "code",
    "executionInfo": {
     "elapsed": 38034,
     "status": "ok",
     "timestamp": 1576683397444,
     "user": {
      "displayName": "zhikai wu",
      "photoUrl": "",
      "userId": "13886846646416832529"
     },
     "user_tz": -480
    },
    "id": "hf7D_lUofCOn",
    "outputId": "bd1d1acc-7458-421d-ae29-729047493866"
   },
   "outputs": [
    {
     "name": "stdout",
     "output_type": "stream",
     "text": [
      "Go to this URL in a browser: https://accounts.google.com/o/oauth2/auth?client_id=947318989803-6bn6qk8qdgf4n4g3pfee6491hc0brc4i.apps.googleusercontent.com&redirect_uri=urn%3aietf%3awg%3aoauth%3a2.0%3aoob&response_type=code&scope=email%20https%3a%2f%2fwww.googleapis.com%2fauth%2fdocs.test%20https%3a%2f%2fwww.googleapis.com%2fauth%2fdrive%20https%3a%2f%2fwww.googleapis.com%2fauth%2fdrive.photos.readonly%20https%3a%2f%2fwww.googleapis.com%2fauth%2fpeopleapi.readonly\n",
      "\n",
      "Enter your authorization code:\n",
      "··········\n",
      "Mounted at /content/gdrive\n"
     ]
    }
   ],
   "source": [
    "from google.colab import drive\n",
    "drive.mount('/content/gdrive')"
   ]
  },
  {
   "cell_type": "code",
   "execution_count": 0,
   "metadata": {
    "colab": {},
    "colab_type": "code",
    "id": "snWJ3yBCfpqA"
   },
   "outputs": [],
   "source": [
    "import os\n",
    "os.chdir(\"/content/gdrive/My Drive/Colab Notebooks\")\n",
    "\n"
   ]
  },
  {
   "cell_type": "markdown",
   "metadata": {
    "colab_type": "text",
    "id": "qi5KAoQoe9gj"
   },
   "source": [
    "# 1. 载入相关库"
   ]
  },
  {
   "cell_type": "code",
   "execution_count": 0,
   "metadata": {
    "colab": {},
    "colab_type": "code",
    "id": "8jOvqrFOe9gr"
   },
   "outputs": [],
   "source": [
    "import numpy as np\n",
    "import torch\n",
    "import torch.nn as nn\n",
    "import torch.nn.functional as F\n",
    "import torch.optim as optim\n",
    "from torch.optim import lr_scheduler\n",
    "from torchvision import datasets, transforms\n",
    "from torch.autograd import Variable\n",
    "import copy\n",
    "import torch.utils.data as Data\n",
    "import pandas as pd\n",
    "from sklearn.metrics import accuracy_score,f1_score,roc_curve,precision_recall_curve,average_precision_score,auc\n",
    "from sklearn.metrics import precision_score, recall_score, f1_score,confusion_matrix,matthews_corrcoef,roc_auc_score\n",
    "import matplotlib.pyplot as plt\n",
    "from tqdm import tqdm\n",
    "from PIL import Image\n",
    "import random"
   ]
  },
  {
   "cell_type": "markdown",
   "metadata": {
    "colab_type": "text",
    "id": "VVSuigAIe9gz"
   },
   "source": [
    "# 2. 处理数据"
   ]
  },
  {
   "cell_type": "code",
   "execution_count": 4,
   "metadata": {
    "colab": {
     "base_uri": "https://localhost:8080/",
     "height": 50
    },
    "colab_type": "code",
    "executionInfo": {
     "elapsed": 3977,
     "status": "ok",
     "timestamp": 1576683416460,
     "user": {
      "displayName": "zhikai wu",
      "photoUrl": "",
      "userId": "13886846646416832529"
     },
     "user_tz": -480
    },
    "id": "KmexzePde9g0",
    "outputId": "72234f68-3545-4f00-e72d-ba437115be5b"
   },
   "outputs": [
    {
     "name": "stdout",
     "output_type": "stream",
     "text": [
      "30000\n",
      "5000\n"
     ]
    }
   ],
   "source": [
    "#数据处理 读取数据\n",
    "test_npy = np.load('test.npy')\n",
    "train_npy = np.load('train.npy')\n",
    "#图片数量\n",
    "train_num = len(train_npy)\n",
    "test_num = len(test_npy)\n",
    "print(train_num)\n",
    "print(test_num)\n",
    "#转为28x28的ndarray\n",
    "test_npy = np.reshape(test_npy,(test_num,28,28))\n",
    "train_npy = np.reshape(train_npy,(train_num,28,28))\n",
    "\n",
    "#resize改变图像大小\n",
    "train_all = []\n",
    "test_img = []\n",
    "for i in range(train_num):\n",
    "    train_all.append(Image.fromarray(train_npy[i,...]))\n",
    "    train_all[i] = train_all[i].resize((112,112))\n",
    "for j in range(test_num):\n",
    "    test_img.append(Image.fromarray(test_npy[j,...]))\n",
    "    test_img[j] = test_img[j].resize((112,112))\n",
    "\n",
    "val_label = np.zeros(600,dtype=int)\n",
    "train_label = np.zeros(2400,dtype=int)\n",
    "val_img = []\n",
    "train_img = []\n",
    "#划分训练集和验证集\n",
    "for i in range(10):\n",
    "    train_temp = train_all[3000*i:3000*(i+1)]\n",
    "    #随机打乱每类图片顺序\n",
    "    random.shuffle(train_temp)\n",
    "    val_img.extend(train_temp[0:600])\n",
    "    train_img.extend(train_temp[600:])\n",
    "    if i>0:\n",
    "        val_label = np.append(val_label,i*np.ones(600,dtype=np.int64))\n",
    "        train_label = np.append(train_label,i*np.ones(2400,dtype=np.int64))"
   ]
  },
  {
   "cell_type": "code",
   "execution_count": 5,
   "metadata": {
    "colab": {
     "base_uri": "https://localhost:8080/",
     "height": 67
    },
    "colab_type": "code",
    "executionInfo": {
     "elapsed": 2333,
     "status": "ok",
     "timestamp": 1576683420778,
     "user": {
      "displayName": "zhikai wu",
      "photoUrl": "",
      "userId": "13886846646416832529"
     },
     "user_tz": -480
    },
    "id": "LIzpLbWse9g7",
    "outputId": "e44f732d-9a23-4469-e637-66ca5d7bd8b9"
   },
   "outputs": [
    {
     "name": "stdout",
     "output_type": "stream",
     "text": [
      "train_loader: 375\n",
      "val_loader: 94\n",
      "test_loader: 79\n"
     ]
    }
   ],
   "source": [
    "train_transform = transforms.Compose([transforms.RandomCrop(112, padding=4),\n",
    "                                      transforms.RandomHorizontalFlip(),\n",
    "                                      transforms.ToTensor()])\n",
    "\n",
    "test_transform = transforms.Compose([transforms.ToTensor()])\n",
    "#转换为张量\n",
    "transform = transforms.ToTensor()\n",
    "BATCH_SIZE = 64\n",
    "class MyDataSet(Data.Dataset):\n",
    "    def __init__(self, pic_data, label_data=None, transform=None, type = 'train'):  # 第一步初始化各个变量\n",
    "        self.pic_data = pic_data #导入所有数据\n",
    "        self.label_data = label_data\n",
    "        self.type = type\n",
    "        self.transform = transform\n",
    "    def __getitem__(self, idx):  # 获取数据\n",
    "        img = self.pic_data[idx]\n",
    "        data = self.transform(img)\n",
    "        if self.type == 'test':\n",
    "            return data\n",
    "        else:\n",
    "            label = self.label_data[idx]\n",
    "            return data,label\n",
    "    def __len__(self):\n",
    "        return len(self.pic_data)  # 返回数据集长度\n",
    "#导入数据集\n",
    "train_dataset = MyDataSet(train_img,train_label,train_transform, type = 'train')\n",
    "val_dataset = MyDataSet(val_img,val_label,test_transform, type = 'train')\n",
    "test_dataset = MyDataSet(test_img,transform = test_transform, type = 'test')\n",
    "#加载小批次数据，即将数据集中的data分成每组batch_size的小块，shuffle指定是否随机读取\n",
    "train_loader = Data.DataLoader(dataset=train_dataset,batch_size=BATCH_SIZE,shuffle=True)\n",
    "val_loader = Data.DataLoader(dataset=val_dataset,batch_size=BATCH_SIZE,shuffle=False)\n",
    "test_loader = Data.DataLoader(dataset=test_dataset,batch_size=BATCH_SIZE,shuffle=False)\n",
    "print(\"train_loader:\", len(train_loader))\n",
    "print(\"val_loader:\", len(val_loader))\n",
    "print(\"test_loader:\", len(test_loader))"
   ]
  },
  {
   "cell_type": "markdown",
   "metadata": {
    "colab_type": "text",
    "id": "Kr36CHJse9g-"
   },
   "source": [
    "# 3.定义残差模块"
   ]
  },
  {
   "cell_type": "code",
   "execution_count": 0,
   "metadata": {
    "colab": {},
    "colab_type": "code",
    "id": "-hKJG1sfe9g_"
   },
   "outputs": [],
   "source": [
    "#参考:https://www.cnblogs.com/wzyuan/p/9880342.html\n",
    "class ResidualBlock(nn.Module):\n",
    "    def __init__(self, inchannel, outchannel, stride=1):\n",
    "        super(ResidualBlock, self).__init__()\n",
    "        self.left = nn.Sequential(\n",
    "            nn.Conv2d(inchannel, outchannel, kernel_size=3, stride=stride, padding=1, bias=False),\n",
    "            nn.BatchNorm2d(outchannel),\n",
    "            nn.ReLU(inplace=True),\n",
    "            nn.Conv2d(outchannel, outchannel, kernel_size=3, stride=1, padding=1, bias=False),\n",
    "            nn.BatchNorm2d(outchannel)\n",
    "        )\n",
    "        #输入输出维度一致时直接相加\n",
    "        self.downsample = nn.Sequential()\n",
    "        #维度不一致时\n",
    "        if stride != 1 or inchannel != outchannel:\n",
    "            #1X1卷积核改变维度\n",
    "            self.downsample = nn.Sequential(\n",
    "                nn.Conv2d(inchannel, outchannel, kernel_size=1, stride=stride, bias=False),\n",
    "                nn.BatchNorm2d(outchannel)\n",
    "            )\n",
    "\n",
    "    def forward(self, x):\n",
    "        residual = self.left(x)\n",
    "        out = self.downsample(x)\n",
    "        out = out + residual\n",
    "        out = F.relu(out)\n",
    "        return out"
   ]
  },
  {
   "cell_type": "markdown",
   "metadata": {
    "colab_type": "text",
    "id": "gqFZGplge9hC"
   },
   "source": [
    "# 4. 定义网络"
   ]
  },
  {
   "cell_type": "code",
   "execution_count": 0,
   "metadata": {
    "colab": {},
    "colab_type": "code",
    "id": "Oxq8YTc8e9hD"
   },
   "outputs": [],
   "source": [
    "\n",
    "\n",
    "\n",
    "class ResNet(nn.Module):\n",
    "    def __init__(self, ResidualBlock):\n",
    "        #预先处理\n",
    "        super(ResNet, self).__init__()\n",
    "        self.conv1 = nn.Conv2d(1, 64, kernel_size=7, stride=2, bias=False)\n",
    "        self.batch_norm = nn.BatchNorm2d(64)\n",
    "        self.relu = nn.ReLU(inplace=True)\n",
    "        #输入维度\n",
    "        self.in_channel = 64\n",
    "        #残差模块\n",
    "        self.layer1 = self.make_layer(ResidualBlock, 64, 2, stride=1)\n",
    "        self.layer2 = self.make_layer(ResidualBlock, 128, 2, stride=2)\n",
    "        self.layer3 = self.make_layer(ResidualBlock, 256, 2, stride=2)\n",
    "        self.layer4 = self.make_layer(ResidualBlock, 512, 2, stride=2)\n",
    "        self.fc1 = nn.Linear(512, 10)\n",
    "\n",
    "    #残差层，每层有两个残差模块\n",
    "    def make_layer(self, block, channels, num_blocks, stride):\n",
    "        layers = []\n",
    "        #第一个模块\n",
    "        layers.append(block(self.in_channel, channels, stride))\n",
    "        self.in_channel = channels\n",
    "        #第二个模块，stride=1，不需要downsample\n",
    "        layers.append(block(self.in_channel, channels, 1))\n",
    "        return nn.Sequential(*layers)\n",
    "\n",
    "    #网络的前向传播函数\n",
    "    def forward(self, x):\n",
    "        out = self.conv1(x)\n",
    "        out = self.batch_norm(out)\n",
    "        out = self.relu(out)\n",
    "        out = self.layer1(out)\n",
    "        out = self.layer2(out)\n",
    "        out = self.layer3(out)\n",
    "        out = self.layer4(out)\n",
    "        out = F.avg_pool2d(out, 4)\n",
    "        out = out.view(out.size(0), -1)\n",
    "        out = self.fc1(out)              \n",
    "        return out\n",
    "\n",
    "def ResNet18():\n",
    "    return ResNet(ResidualBlock)\n"
   ]
  },
  {
   "cell_type": "markdown",
   "metadata": {
    "colab_type": "text",
    "id": "rucfU_5se9hG"
   },
   "source": [
    "# 5. 训练模型"
   ]
  },
  {
   "cell_type": "markdown",
   "metadata": {
    "colab_type": "text",
    "id": "4FBASc1Fe9hH"
   },
   "source": [
    "## 5.1定义网络与参数"
   ]
  },
  {
   "cell_type": "code",
   "execution_count": 0,
   "metadata": {
    "colab": {},
    "colab_type": "code",
    "id": "y2QhrU6Xe9hI"
   },
   "outputs": [],
   "source": [
    "model = ResNet18().cuda() #实例化网络\n",
    "#model = ResNet18() #实例化网络\n",
    "loss = nn.CrossEntropyLoss() #损失函数选择，交叉熵函数\n",
    "optimizer = optim.SGD(model.parameters(),lr = 0.05,weight_decay=1e-4)\n",
    "scheduler = lr_scheduler.StepLR(optimizer, step_size=10, gamma=0.1)\n",
    "num_epochs = 30\n",
    "#训练和验证集的准确率和损失值\n",
    "train_losses = []\n",
    "train_acces = []\n",
    "val_losses = []\n",
    "val_acces = []"
   ]
  },
  {
   "cell_type": "markdown",
   "metadata": {
    "colab_type": "text",
    "id": "ZHory0C5e9hK"
   },
   "source": [
    "## 5.2训练模型"
   ]
  },
  {
   "cell_type": "code",
   "execution_count": 10,
   "metadata": {
    "colab": {
     "base_uri": "https://localhost:8080/",
     "height": 1000
    },
    "colab_type": "code",
    "executionInfo": {
     "elapsed": 1991022,
     "status": "ok",
     "timestamp": 1576685453406,
     "user": {
      "displayName": "zhikai wu",
      "photoUrl": "",
      "userId": "13886846646416832529"
     },
     "user_tz": -480
    },
    "id": "aDIvUefqe9hL",
    "outputId": "153d1ed3-6484-49ea-915b-7edf5d16f268"
   },
   "outputs": [
    {
     "name": "stderr",
     "output_type": "stream",
     "text": [
      "\r",
      "  0%|          | 0/375 [00:00<?, ?it/s]/usr/local/lib/python3.6/dist-packages/torch/optim/lr_scheduler.py:100: UserWarning: Detected call of `lr_scheduler.step()` before `optimizer.step()`. In PyTorch 1.1.0 and later, you should call them in the opposite order: `optimizer.step()` before `lr_scheduler.step()`.  Failure to do this will result in PyTorch skipping the first value of the learning rate schedule.See more details at https://pytorch.org/docs/stable/optim.html#how-to-adjust-learning-rate\n",
      "  \"https://pytorch.org/docs/stable/optim.html#how-to-adjust-learning-rate\", UserWarning)\n"
     ]
    },
    {
     "name": "stdout",
     "output_type": "stream",
     "text": [
      "lr: [0.05]\n"
     ]
    },
    {
     "name": "stderr",
     "output_type": "stream",
     "text": [
      "100%|██████████| 375/375 [01:00<00:00,  6.00it/s]\n",
      "/usr/local/lib/python3.6/dist-packages/torch/nn/functional.py:1351: UserWarning: nn.functional.sigmoid is deprecated. Use torch.sigmoid instead.\n",
      "  warnings.warn(\"nn.functional.sigmoid is deprecated. Use torch.sigmoid instead.\")\n"
     ]
    },
    {
     "name": "stdout",
     "output_type": "stream",
     "text": [
      "train epoch: 0\n",
      "lose: 0.7763575422763824\n",
      "accuracy: 0.7113333333333334\n"
     ]
    },
    {
     "name": "stderr",
     "output_type": "stream",
     "text": [
      "  0%|          | 1/375 [00:00<01:02,  5.98it/s]"
     ]
    },
    {
     "name": "stdout",
     "output_type": "stream",
     "text": [
      "val epoch: 0\n",
      "lose: 0.5969313316919068\n",
      "accuracy: 0.7623005319148937\n",
      "lr: [0.05]\n"
     ]
    },
    {
     "name": "stderr",
     "output_type": "stream",
     "text": [
      "100%|██████████| 375/375 [01:01<00:00,  6.13it/s]\n"
     ]
    },
    {
     "name": "stdout",
     "output_type": "stream",
     "text": [
      "train epoch: 1\n",
      "lose: 0.49579543085892996\n",
      "accuracy: 0.8130833333333334\n"
     ]
    },
    {
     "name": "stderr",
     "output_type": "stream",
     "text": [
      "  0%|          | 1/375 [00:00<01:01,  6.09it/s]"
     ]
    },
    {
     "name": "stdout",
     "output_type": "stream",
     "text": [
      "val epoch: 1\n",
      "lose: 0.4343471490639321\n",
      "accuracy: 0.8403701241134752\n",
      "lr: [0.05]\n"
     ]
    },
    {
     "name": "stderr",
     "output_type": "stream",
     "text": [
      "100%|██████████| 375/375 [01:01<00:00,  6.08it/s]\n"
     ]
    },
    {
     "name": "stdout",
     "output_type": "stream",
     "text": [
      "train epoch: 2\n",
      "lose: 0.4147681130965551\n",
      "accuracy: 0.8460833333333333\n"
     ]
    },
    {
     "name": "stderr",
     "output_type": "stream",
     "text": [
      "  0%|          | 1/375 [00:00<01:01,  6.13it/s]"
     ]
    },
    {
     "name": "stdout",
     "output_type": "stream",
     "text": [
      "val epoch: 2\n",
      "lose: 0.43793495253045506\n",
      "accuracy: 0.842364804964539\n",
      "lr: [0.05]\n"
     ]
    },
    {
     "name": "stderr",
     "output_type": "stream",
     "text": [
      "100%|██████████| 375/375 [01:01<00:00,  6.05it/s]\n"
     ]
    },
    {
     "name": "stdout",
     "output_type": "stream",
     "text": [
      "train epoch: 3\n",
      "lose: 0.3691329933802287\n",
      "accuracy: 0.8615833333333334\n"
     ]
    },
    {
     "name": "stderr",
     "output_type": "stream",
     "text": [
      "  0%|          | 1/375 [00:00<01:02,  5.99it/s]"
     ]
    },
    {
     "name": "stdout",
     "output_type": "stream",
     "text": [
      "val epoch: 3\n",
      "lose: 0.37283912067242125\n",
      "accuracy: 0.8611480496453902\n",
      "lr: [0.05]\n"
     ]
    },
    {
     "name": "stderr",
     "output_type": "stream",
     "text": [
      "100%|██████████| 375/375 [01:01<00:00,  6.14it/s]\n"
     ]
    },
    {
     "name": "stdout",
     "output_type": "stream",
     "text": [
      "train epoch: 4\n",
      "lose: 0.3338557516336441\n",
      "accuracy: 0.874875\n"
     ]
    },
    {
     "name": "stderr",
     "output_type": "stream",
     "text": [
      "  0%|          | 1/375 [00:00<01:00,  6.15it/s]"
     ]
    },
    {
     "name": "stdout",
     "output_type": "stream",
     "text": [
      "val epoch: 4\n",
      "lose: 0.39647609575532694\n",
      "accuracy: 0.852061170212766\n",
      "lr: [0.05]\n"
     ]
    },
    {
     "name": "stderr",
     "output_type": "stream",
     "text": [
      "100%|██████████| 375/375 [01:01<00:00,  6.02it/s]\n"
     ]
    },
    {
     "name": "stdout",
     "output_type": "stream",
     "text": [
      "train epoch: 5\n",
      "lose: 0.31467242989937466\n",
      "accuracy: 0.8830416666666666\n"
     ]
    },
    {
     "name": "stderr",
     "output_type": "stream",
     "text": [
      "  0%|          | 1/375 [00:00<01:04,  5.82it/s]"
     ]
    },
    {
     "name": "stdout",
     "output_type": "stream",
     "text": [
      "val epoch: 5\n",
      "lose: 0.32474874457384045\n",
      "accuracy: 0.8794880319148937\n",
      "lr: [0.05]\n"
     ]
    },
    {
     "name": "stderr",
     "output_type": "stream",
     "text": [
      "100%|██████████| 375/375 [01:01<00:00,  6.02it/s]\n"
     ]
    },
    {
     "name": "stdout",
     "output_type": "stream",
     "text": [
      "train epoch: 6\n",
      "lose: 0.29063542213042576\n",
      "accuracy: 0.894375\n"
     ]
    },
    {
     "name": "stderr",
     "output_type": "stream",
     "text": [
      "  0%|          | 1/375 [00:00<01:01,  6.10it/s]"
     ]
    },
    {
     "name": "stdout",
     "output_type": "stream",
     "text": [
      "val epoch: 6\n",
      "lose: 0.5509566942110975\n",
      "accuracy: 0.7902260638297872\n",
      "lr: [0.05]\n"
     ]
    },
    {
     "name": "stderr",
     "output_type": "stream",
     "text": [
      "100%|██████████| 375/375 [01:01<00:00,  6.03it/s]\n"
     ]
    },
    {
     "name": "stdout",
     "output_type": "stream",
     "text": [
      "train epoch: 7\n",
      "lose: 0.27734573918581007\n",
      "accuracy: 0.8957916666666667\n"
     ]
    },
    {
     "name": "stderr",
     "output_type": "stream",
     "text": [
      "  0%|          | 1/375 [00:00<01:02,  6.02it/s]"
     ]
    },
    {
     "name": "stdout",
     "output_type": "stream",
     "text": [
      "val epoch: 7\n",
      "lose: 0.36280240646583284\n",
      "accuracy: 0.8696808510638298\n",
      "lr: [0.05]\n"
     ]
    },
    {
     "name": "stderr",
     "output_type": "stream",
     "text": [
      "100%|██████████| 375/375 [01:01<00:00,  6.09it/s]\n"
     ]
    },
    {
     "name": "stdout",
     "output_type": "stream",
     "text": [
      "train epoch: 8\n",
      "lose: 0.26012470996379855\n",
      "accuracy: 0.9049583333333333\n"
     ]
    },
    {
     "name": "stderr",
     "output_type": "stream",
     "text": [
      "  0%|          | 1/375 [00:00<01:00,  6.16it/s]"
     ]
    },
    {
     "name": "stdout",
     "output_type": "stream",
     "text": [
      "val epoch: 8\n",
      "lose: 0.3142170756658975\n",
      "accuracy: 0.8847517730496455\n",
      "lr: [0.005000000000000001]\n"
     ]
    },
    {
     "name": "stderr",
     "output_type": "stream",
     "text": [
      "100%|██████████| 375/375 [01:01<00:00,  6.14it/s]\n"
     ]
    },
    {
     "name": "stdout",
     "output_type": "stream",
     "text": [
      "train epoch: 9\n",
      "lose: 0.20100194960832596\n",
      "accuracy: 0.9262916666666666\n"
     ]
    },
    {
     "name": "stderr",
     "output_type": "stream",
     "text": [
      "  0%|          | 1/375 [00:00<01:01,  6.07it/s]"
     ]
    },
    {
     "name": "stdout",
     "output_type": "stream",
     "text": [
      "val epoch: 9\n",
      "lose: 0.26853967620495783\n",
      "accuracy: 0.9022606382978723\n",
      "lr: [0.005000000000000001]\n"
     ]
    },
    {
     "name": "stderr",
     "output_type": "stream",
     "text": [
      "100%|██████████| 375/375 [01:01<00:00,  6.10it/s]\n"
     ]
    },
    {
     "name": "stdout",
     "output_type": "stream",
     "text": [
      "train epoch: 10\n",
      "lose: 0.18663159177700678\n",
      "accuracy: 0.9324166666666667\n"
     ]
    },
    {
     "name": "stderr",
     "output_type": "stream",
     "text": [
      "  0%|          | 1/375 [00:00<01:00,  6.21it/s]"
     ]
    },
    {
     "name": "stdout",
     "output_type": "stream",
     "text": [
      "val epoch: 10\n",
      "lose: 0.26005327107107384\n",
      "accuracy: 0.9065824468085106\n",
      "lr: [0.005000000000000001]\n"
     ]
    },
    {
     "name": "stderr",
     "output_type": "stream",
     "text": [
      "100%|██████████| 375/375 [01:01<00:00,  6.05it/s]\n"
     ]
    },
    {
     "name": "stdout",
     "output_type": "stream",
     "text": [
      "train epoch: 11\n",
      "lose: 0.18163607774178187\n",
      "accuracy: 0.9345416666666667\n"
     ]
    },
    {
     "name": "stderr",
     "output_type": "stream",
     "text": [
      "  0%|          | 1/375 [00:00<01:01,  6.07it/s]"
     ]
    },
    {
     "name": "stdout",
     "output_type": "stream",
     "text": [
      "val epoch: 11\n",
      "lose: 0.26048556792529975\n",
      "accuracy: 0.9070811170212766\n",
      "lr: [0.005000000000000001]\n"
     ]
    },
    {
     "name": "stderr",
     "output_type": "stream",
     "text": [
      "100%|██████████| 375/375 [01:01<00:00,  6.04it/s]\n"
     ]
    },
    {
     "name": "stdout",
     "output_type": "stream",
     "text": [
      "train epoch: 12\n",
      "lose: 0.17364161998033523\n",
      "accuracy: 0.9372083333333333\n"
     ]
    },
    {
     "name": "stderr",
     "output_type": "stream",
     "text": [
      "  0%|          | 1/375 [00:00<01:01,  6.04it/s]"
     ]
    },
    {
     "name": "stdout",
     "output_type": "stream",
     "text": [
      "val epoch: 12\n",
      "lose: 0.2654937700903479\n",
      "accuracy: 0.9060837765957447\n",
      "lr: [0.005000000000000001]\n"
     ]
    },
    {
     "name": "stderr",
     "output_type": "stream",
     "text": [
      "100%|██████████| 375/375 [01:01<00:00,  6.08it/s]\n"
     ]
    },
    {
     "name": "stdout",
     "output_type": "stream",
     "text": [
      "train epoch: 13\n",
      "lose: 0.16727097461620966\n",
      "accuracy: 0.9410416666666667\n"
     ]
    },
    {
     "name": "stderr",
     "output_type": "stream",
     "text": [
      "  0%|          | 1/375 [00:00<01:00,  6.23it/s]"
     ]
    },
    {
     "name": "stdout",
     "output_type": "stream",
     "text": [
      "val epoch: 13\n",
      "lose: 0.25871890470227027\n",
      "accuracy: 0.9097406914893617\n",
      "lr: [0.005000000000000001]\n"
     ]
    },
    {
     "name": "stderr",
     "output_type": "stream",
     "text": [
      "100%|██████████| 375/375 [01:01<00:00,  6.04it/s]\n"
     ]
    },
    {
     "name": "stdout",
     "output_type": "stream",
     "text": [
      "train epoch: 14\n",
      "lose: 0.16208391762773197\n",
      "accuracy: 0.9414166666666667\n"
     ]
    },
    {
     "name": "stderr",
     "output_type": "stream",
     "text": [
      "  0%|          | 1/375 [00:00<01:00,  6.16it/s]"
     ]
    },
    {
     "name": "stdout",
     "output_type": "stream",
     "text": [
      "val epoch: 14\n",
      "lose: 0.2570850495050879\n",
      "accuracy: 0.9100731382978723\n",
      "lr: [0.005000000000000001]\n"
     ]
    },
    {
     "name": "stderr",
     "output_type": "stream",
     "text": [
      "100%|██████████| 375/375 [01:01<00:00,  6.08it/s]\n"
     ]
    },
    {
     "name": "stdout",
     "output_type": "stream",
     "text": [
      "train epoch: 15\n",
      "lose: 0.16095968981583914\n",
      "accuracy: 0.9409166666666666\n"
     ]
    },
    {
     "name": "stderr",
     "output_type": "stream",
     "text": [
      "  0%|          | 1/375 [00:00<01:00,  6.14it/s]"
     ]
    },
    {
     "name": "stdout",
     "output_type": "stream",
     "text": [
      "val epoch: 15\n",
      "lose: 0.2580625485192905\n",
      "accuracy: 0.9084109042553191\n",
      "lr: [0.005000000000000001]\n"
     ]
    },
    {
     "name": "stderr",
     "output_type": "stream",
     "text": [
      "100%|██████████| 375/375 [01:01<00:00,  6.04it/s]\n"
     ]
    },
    {
     "name": "stdout",
     "output_type": "stream",
     "text": [
      "train epoch: 16\n",
      "lose: 0.1564586305220922\n",
      "accuracy: 0.9434583333333333\n"
     ]
    },
    {
     "name": "stderr",
     "output_type": "stream",
     "text": [
      "  0%|          | 1/375 [00:00<01:00,  6.13it/s]"
     ]
    },
    {
     "name": "stdout",
     "output_type": "stream",
     "text": [
      "val epoch: 16\n",
      "lose: 0.25729617934198457\n",
      "accuracy: 0.9070811170212766\n",
      "lr: [0.005000000000000001]\n"
     ]
    },
    {
     "name": "stderr",
     "output_type": "stream",
     "text": [
      "100%|██████████| 375/375 [01:01<00:00,  6.11it/s]\n"
     ]
    },
    {
     "name": "stdout",
     "output_type": "stream",
     "text": [
      "train epoch: 17\n",
      "lose: 0.15269470803936322\n",
      "accuracy: 0.9445833333333333\n"
     ]
    },
    {
     "name": "stderr",
     "output_type": "stream",
     "text": [
      "  0%|          | 1/375 [00:00<01:02,  5.95it/s]"
     ]
    },
    {
     "name": "stdout",
     "output_type": "stream",
     "text": [
      "val epoch: 17\n",
      "lose: 0.25589103453812445\n",
      "accuracy: 0.9105718085106383\n",
      "lr: [0.005000000000000001]\n"
     ]
    },
    {
     "name": "stderr",
     "output_type": "stream",
     "text": [
      "100%|██████████| 375/375 [01:01<00:00,  6.12it/s]\n"
     ]
    },
    {
     "name": "stdout",
     "output_type": "stream",
     "text": [
      "train epoch: 18\n",
      "lose: 0.14664288019140562\n",
      "accuracy: 0.9462916666666666\n"
     ]
    },
    {
     "name": "stderr",
     "output_type": "stream",
     "text": [
      "  0%|          | 1/375 [00:00<01:00,  6.19it/s]"
     ]
    },
    {
     "name": "stdout",
     "output_type": "stream",
     "text": [
      "val epoch: 18\n",
      "lose: 0.25907083260925845\n",
      "accuracy: 0.9115691489361702\n",
      "lr: [0.0005000000000000001]\n"
     ]
    },
    {
     "name": "stderr",
     "output_type": "stream",
     "text": [
      "100%|██████████| 375/375 [01:01<00:00,  6.12it/s]\n"
     ]
    },
    {
     "name": "stdout",
     "output_type": "stream",
     "text": [
      "train epoch: 19\n",
      "lose: 0.1368534607589245\n",
      "accuracy: 0.9529166666666666\n"
     ]
    },
    {
     "name": "stderr",
     "output_type": "stream",
     "text": [
      "  0%|          | 1/375 [00:00<01:01,  6.07it/s]"
     ]
    },
    {
     "name": "stdout",
     "output_type": "stream",
     "text": [
      "val epoch: 19\n",
      "lose: 0.2575955660419261\n",
      "accuracy: 0.9102393617021277\n",
      "lr: [0.0005000000000000001]\n"
     ]
    },
    {
     "name": "stderr",
     "output_type": "stream",
     "text": [
      "100%|██████████| 375/375 [01:01<00:00,  6.08it/s]\n"
     ]
    },
    {
     "name": "stdout",
     "output_type": "stream",
     "text": [
      "train epoch: 20\n",
      "lose: 0.13640305015444756\n",
      "accuracy: 0.9517916666666667\n"
     ]
    },
    {
     "name": "stderr",
     "output_type": "stream",
     "text": [
      "  0%|          | 1/375 [00:00<01:00,  6.18it/s]"
     ]
    },
    {
     "name": "stdout",
     "output_type": "stream",
     "text": [
      "val epoch: 20\n",
      "lose: 0.25712673334365194\n",
      "accuracy: 0.9110704787234043\n",
      "lr: [0.0005000000000000001]\n"
     ]
    },
    {
     "name": "stderr",
     "output_type": "stream",
     "text": [
      "100%|██████████| 375/375 [01:01<00:00,  6.14it/s]\n"
     ]
    },
    {
     "name": "stdout",
     "output_type": "stream",
     "text": [
      "train epoch: 21\n",
      "lose: 0.13482331287860871\n",
      "accuracy: 0.9527916666666667\n"
     ]
    },
    {
     "name": "stderr",
     "output_type": "stream",
     "text": [
      "  0%|          | 1/375 [00:00<01:01,  6.08it/s]"
     ]
    },
    {
     "name": "stdout",
     "output_type": "stream",
     "text": [
      "val epoch: 21\n",
      "lose: 0.2568261006728132\n",
      "accuracy: 0.9117353723404256\n",
      "lr: [0.0005000000000000001]\n"
     ]
    },
    {
     "name": "stderr",
     "output_type": "stream",
     "text": [
      "100%|██████████| 375/375 [01:01<00:00,  6.05it/s]\n"
     ]
    },
    {
     "name": "stdout",
     "output_type": "stream",
     "text": [
      "train epoch: 22\n",
      "lose: 0.13423571313420932\n",
      "accuracy: 0.9519166666666666\n"
     ]
    },
    {
     "name": "stderr",
     "output_type": "stream",
     "text": [
      "  0%|          | 1/375 [00:00<01:01,  6.09it/s]"
     ]
    },
    {
     "name": "stdout",
     "output_type": "stream",
     "text": [
      "val epoch: 22\n",
      "lose: 0.2570029691535425\n",
      "accuracy: 0.9110704787234043\n",
      "lr: [0.0005000000000000001]\n"
     ]
    },
    {
     "name": "stderr",
     "output_type": "stream",
     "text": [
      "100%|██████████| 375/375 [01:01<00:00,  6.08it/s]\n"
     ]
    },
    {
     "name": "stdout",
     "output_type": "stream",
     "text": [
      "train epoch: 23\n",
      "lose: 0.1308183692097664\n",
      "accuracy: 0.954875\n"
     ]
    },
    {
     "name": "stderr",
     "output_type": "stream",
     "text": [
      "  0%|          | 1/375 [00:00<01:01,  6.07it/s]"
     ]
    },
    {
     "name": "stdout",
     "output_type": "stream",
     "text": [
      "val epoch: 23\n",
      "lose: 0.25787137803482885\n",
      "accuracy: 0.9115691489361702\n",
      "lr: [0.0005000000000000001]\n"
     ]
    },
    {
     "name": "stderr",
     "output_type": "stream",
     "text": [
      "100%|██████████| 375/375 [01:01<00:00,  6.11it/s]\n"
     ]
    },
    {
     "name": "stdout",
     "output_type": "stream",
     "text": [
      "train epoch: 24\n",
      "lose: 0.13216973467667897\n",
      "accuracy: 0.953375\n"
     ]
    },
    {
     "name": "stderr",
     "output_type": "stream",
     "text": [
      "  0%|          | 1/375 [00:00<01:02,  5.98it/s]"
     ]
    },
    {
     "name": "stdout",
     "output_type": "stream",
     "text": [
      "val epoch: 24\n",
      "lose: 0.2566561765295077\n",
      "accuracy: 0.9110704787234043\n",
      "lr: [0.0005000000000000001]\n"
     ]
    },
    {
     "name": "stderr",
     "output_type": "stream",
     "text": [
      "100%|██████████| 375/375 [01:01<00:00,  6.03it/s]\n"
     ]
    },
    {
     "name": "stdout",
     "output_type": "stream",
     "text": [
      "train epoch: 25\n",
      "lose: 0.1326141787469387\n",
      "accuracy: 0.952875\n"
     ]
    },
    {
     "name": "stderr",
     "output_type": "stream",
     "text": [
      "  0%|          | 1/375 [00:00<01:02,  6.01it/s]"
     ]
    },
    {
     "name": "stdout",
     "output_type": "stream",
     "text": [
      "val epoch: 25\n",
      "lose: 0.2574522529550372\n",
      "accuracy: 0.9117353723404256\n",
      "lr: [0.0005000000000000001]\n"
     ]
    },
    {
     "name": "stderr",
     "output_type": "stream",
     "text": [
      "100%|██████████| 375/375 [01:01<00:00,  6.06it/s]\n"
     ]
    },
    {
     "name": "stdout",
     "output_type": "stream",
     "text": [
      "train epoch: 26\n",
      "lose: 0.13117844332257905\n",
      "accuracy: 0.9538333333333333\n"
     ]
    },
    {
     "name": "stderr",
     "output_type": "stream",
     "text": [
      "  0%|          | 1/375 [00:00<01:02,  6.02it/s]"
     ]
    },
    {
     "name": "stdout",
     "output_type": "stream",
     "text": [
      "val epoch: 26\n",
      "lose: 0.25673305239290634\n",
      "accuracy: 0.9115691489361702\n",
      "lr: [0.0005000000000000001]\n"
     ]
    },
    {
     "name": "stderr",
     "output_type": "stream",
     "text": [
      "100%|██████████| 375/375 [01:01<00:00,  6.08it/s]\n"
     ]
    },
    {
     "name": "stdout",
     "output_type": "stream",
     "text": [
      "train epoch: 27\n",
      "lose: 0.13194198016325634\n",
      "accuracy: 0.9526666666666667\n"
     ]
    },
    {
     "name": "stderr",
     "output_type": "stream",
     "text": [
      "  0%|          | 1/375 [00:00<01:01,  6.08it/s]"
     ]
    },
    {
     "name": "stdout",
     "output_type": "stream",
     "text": [
      "val epoch: 27\n",
      "lose: 0.2579998544892891\n",
      "accuracy: 0.9115691489361702\n",
      "lr: [0.0005000000000000001]\n"
     ]
    },
    {
     "name": "stderr",
     "output_type": "stream",
     "text": [
      "100%|██████████| 375/375 [01:01<00:00,  6.16it/s]\n"
     ]
    },
    {
     "name": "stdout",
     "output_type": "stream",
     "text": [
      "train epoch: 28\n",
      "lose: 0.12984188042084377\n",
      "accuracy: 0.9539583333333334\n"
     ]
    },
    {
     "name": "stderr",
     "output_type": "stream",
     "text": [
      "  0%|          | 1/375 [00:00<01:01,  6.09it/s]"
     ]
    },
    {
     "name": "stdout",
     "output_type": "stream",
     "text": [
      "val epoch: 28\n",
      "lose: 0.2572556381965888\n",
      "accuracy: 0.9125664893617021\n",
      "lr: [5.0000000000000016e-05]\n"
     ]
    },
    {
     "name": "stderr",
     "output_type": "stream",
     "text": [
      "100%|██████████| 375/375 [01:01<00:00,  6.04it/s]\n"
     ]
    },
    {
     "name": "stdout",
     "output_type": "stream",
     "text": [
      "train epoch: 29\n",
      "lose: 0.12893843877315522\n",
      "accuracy: 0.9555\n",
      "val epoch: 29\n",
      "lose: 0.2568023958778445\n",
      "accuracy: 0.9122340425531915\n"
     ]
    }
   ],
   "source": [
    "#训练和验证集的准确率和损失值\n",
    "for echo in range(num_epochs):\n",
    "    train_loss = 0  # 定义训练损失\n",
    "    train_acc = 0  # 定义训练准确度\n",
    "    model.train()  # 将网络转化为训练模式\n",
    "    train_loader = tqdm(train_loader)\n",
    "    scheduler.step()\n",
    "    lr = scheduler.get_lr()\n",
    "    print(\"lr:\", lr)\n",
    "    for i, (X, label) in enumerate(train_loader):  # 使用枚举函数遍历train_loader\n",
    "        X = Variable(X).cuda()  #转化数据类型\n",
    "        X = X.float()\n",
    "        label = Variable(label).cuda()\n",
    "        out = model(X)  # 正向传播\n",
    "        lossvalue = loss(out, label)  # 求损失值\n",
    "        optimizer.zero_grad()  # 优化器梯度归零\n",
    "        lossvalue.backward()  # 反向转播，刷新梯度值\n",
    "        optimizer.step()  # 优化器运行一步，注意optimizer搜集的是model的参数\n",
    "        # 计算损失\n",
    "        train_loss += float(lossvalue)\n",
    "        # 计算精确度\n",
    "        _, pred = out.max(1)\n",
    "        num_correct = (pred == label).sum()\n",
    "        acc = int(num_correct) / X.shape[0]\n",
    "        train_acc += acc\n",
    "    train_losses.append(train_loss / len(train_loader))\n",
    "    train_acces.append(train_acc / len(train_loader))\n",
    "    print(\"train epoch:\" + ' ' + str(echo))\n",
    "    print(\"lose:\" + ' ' + str(train_loss / len(train_loader)))\n",
    "    print(\"accuracy:\" + ' ' + str(train_acc / len(train_loader)))\n",
    "\n",
    "    val_pred = None #预测分类\n",
    "    val_label_all = None #实际分类\n",
    "    val_pred_pro_all = None #对应概率\n",
    "    val_loss = 0  # 定义验证损失\n",
    "    val_acc = 0\n",
    "    model.eval() #模型转化为评估模式\n",
    "    # val_loader = tqdm(val_loader)\n",
    "    for X,label in val_loader:\n",
    "        X = Variable(X).cuda()\n",
    "        X = X.float()\n",
    "        label = Variable(label).cuda()\n",
    "        with torch.no_grad():\n",
    "            testout = model(X)\n",
    "        testloss = loss(testout,label)\n",
    "        val_loss += float(testloss)\n",
    "        _, pred = testout.max(1)\n",
    "        if val_pred is None:\n",
    "            val_pred = torch.cat([pred])\n",
    "        else:\n",
    "            val_pred = torch.cat([val_pred, pred])\n",
    "        if val_label_all is None:\n",
    "            val_label_all = label\n",
    "        else:\n",
    "            val_label_all = torch.cat([val_label_all, label])\n",
    "        if val_pred_pro_all is None:\n",
    "            val_pred_pro_all = torch.cat([F.sigmoid(testout)])\n",
    "        else:\n",
    "            val_pred_pro_all = torch.cat([val_pred_pro_all, F.sigmoid(testout)])\n",
    "        num_correct = (pred == label).sum()\n",
    "        acc = int(num_correct) / X.shape[0]\n",
    "        val_acc += acc\n",
    "    val_losses.append(val_loss / len(val_loader))\n",
    "    val_acces.append(val_acc / len(val_loader))\n",
    "    print(\"val epoch:\" + ' ' + str(echo))\n",
    "    print(\"lose:\" + ' ' + str(val_loss / len(val_loader)))\n",
    "    print(\"accuracy:\" + ' ' + str(val_acc / len(val_loader)))"
   ]
  },
  {
   "cell_type": "code",
   "execution_count": 11,
   "metadata": {
    "colab": {
     "base_uri": "https://localhost:8080/",
     "height": 168
    },
    "colab_type": "code",
    "executionInfo": {
     "elapsed": 2242,
     "status": "ok",
     "timestamp": 1576686035939,
     "user": {
      "displayName": "zhikai wu",
      "photoUrl": "",
      "userId": "13886846646416832529"
     },
     "user_tz": -480
    },
    "id": "h1Rh_mTzUyvu",
    "outputId": "642b04eb-84c3-4222-92a4-b71d03f471f8"
   },
   "outputs": [
    {
     "name": "stdout",
     "output_type": "stream",
     "text": [
      "SGD (\n",
      "Parameter Group 0\n",
      "    dampening: 0\n",
      "    initial_lr: 0.05\n",
      "    lr: 5.0000000000000016e-05\n",
      "    momentum: 0\n",
      "    nesterov: False\n",
      "    weight_decay: 0.0001\n",
      ")\n"
     ]
    }
   ],
   "source": [
    "print(optimizer)"
   ]
  },
  {
   "cell_type": "markdown",
   "metadata": {
    "colab_type": "text",
    "id": "dSia1Wqee9hO"
   },
   "source": [
    "## 5.3 验证集准确率计算"
   ]
  },
  {
   "cell_type": "code",
   "execution_count": 12,
   "metadata": {
    "colab": {
     "base_uri": "https://localhost:8080/",
     "height": 629
    },
    "colab_type": "code",
    "executionInfo": {
     "elapsed": 2211,
     "status": "ok",
     "timestamp": 1576686039733,
     "user": {
      "displayName": "zhikai wu",
      "photoUrl": "",
      "userId": "13886846646416832529"
     },
     "user_tz": -480
    },
    "id": "BhWfiL7Fe9hO",
    "outputId": "52092aa2-0a60-4e94-ec8f-4c61d8431a4c"
   },
   "outputs": [
    {
     "name": "stdout",
     "output_type": "stream",
     "text": [
      "ACC:0.9120000\n",
      "Precision-macro:0.9122511\n",
      "Recall-macro:0.9120000\n",
      "F1-macro:0.9120943\n"
     ]
    },
    {
     "data": {
      "text/plain": [
       "<matplotlib.legend.Legend at 0x7f7196195f98>"
      ]
     },
     "execution_count": 12,
     "metadata": {
      "tags": []
     },
     "output_type": "execute_result"
    },
    {
     "data": {
      "image/png": "[encoded data removed]",
      "text/plain": [
       "<Figure size 432x288 with 1 Axes>"
      ]
     },
     "metadata": {
      "tags": []
     },
     "output_type": "display_data"
    },
    {
     "data": {
      "image/png": "[encoded data removed]",
      "text/plain": [
       "<Figure size 432x288 with 1 Axes>"
      ]
     },
     "metadata": {
      "tags": []
     },
     "output_type": "display_data"
    }
   ],
   "source": [
    "\n",
    "y_val = val_label_all.cpu().detach().numpy()\n",
    "y_val_pred = val_pred.cpu().detach().numpy()\n",
    "y_pred_pro = val_pred_pro_all.cpu().detach().numpy()\n",
    "print('ACC:%.7f' %accuracy_score(y_true=y_val, y_pred=y_val_pred))\n",
    "print('Precision-macro:%.7f' %precision_score(y_true=y_val, y_pred=y_val_pred,average='macro'))\n",
    "print('Recall-macro:%.7f' %recall_score(y_true=y_val, y_pred=y_val_pred,average='macro'))\n",
    "print('F1-macro:%.7f' %f1_score(y_true=y_val, y_pred=y_val_pred,average='macro'))   \n",
    "plt.figure()\n",
    "plt.plot(val_losses, label = 'val', color='y')\n",
    "plt.plot(train_losses,label='train', color='r')\n",
    "plt.title('loss')\n",
    "plt.legend(loc=\"upper right\")\n",
    "plt.figure()\n",
    "plt.plot(val_acces, label = 'val', color='y')\n",
    "plt.plot(train_acces,label='train', color='r')\n",
    "plt.title('accuracy')\n",
    "plt.legend(loc=\"lower right\")"
   ]
  },
  {
   "cell_type": "markdown",
   "metadata": {
    "colab_type": "text",
    "id": "z8oFWjpLe9hR"
   },
   "source": [
    "## 5.4 作图"
   ]
  },
  {
   "cell_type": "code",
   "execution_count": 13,
   "metadata": {
    "colab": {
     "base_uri": "https://localhost:8080/",
     "height": 590
    },
    "colab_type": "code",
    "executionInfo": {
     "elapsed": 4467,
     "status": "ok",
     "timestamp": 1576686049972,
     "user": {
      "displayName": "zhikai wu",
      "photoUrl": "",
      "userId": "13886846646416832529"
     },
     "user_tz": -480
    },
    "id": "n2yfOkHYe9hS",
    "outputId": "1edb9f84-da1c-428e-f1e9-99fef52bd25b",
    "scrolled": true
   },
   "outputs": [
    {
     "data": {
      "text/plain": [
       "<matplotlib.legend.Legend at 0x7f7196076b38>"
      ]
     },
     "execution_count": 13,
     "metadata": {
      "tags": []
     },
     "output_type": "execute_result"
    },
    {
     "data": {
      "image/png": "[encoded data removed]",
      "text/plain": [
       "<Figure size 432x288 with 1 Axes>"
      ]
     },
     "metadata": {
      "tags": []
     },
     "output_type": "display_data"
    },
    {
     "data": {
      "image/png": "[encoded data removed]",
      "text/plain": [
       "<Figure size 432x288 with 1 Axes>"
      ]
     },
     "metadata": {
      "tags": []
     },
     "output_type": "display_data"
    }
   ],
   "source": [
    "#参考助教ai_turorial2.ipynb\n",
    "fpr = dict()\n",
    "tpr = dict()\n",
    "roc_auc = dict()\n",
    "average_precision = dict()\n",
    "recall = dict()\n",
    "precision = dict()\n",
    "for i in range(10):\n",
    "    y_test2 = copy.deepcopy(y_val)\n",
    "    y_test2[y_test2!=i] = 10\n",
    "    y_test2[y_test2==i] = 1\n",
    "    y_test2[y_test2==10] = 0\n",
    "    y_pred_pro2 = y_pred_pro[:,i]\n",
    "    \n",
    "    fpr[i], tpr[i], _ = roc_curve(y_test2, y_pred_pro2)\n",
    "    #面积\n",
    "    roc_auc[i] = roc_auc_score(y_test2,y_pred_pro2)\n",
    "    #PR曲线\n",
    "    average_precision[i] = average_precision_score(y_test2, y_pred_pro2)\n",
    "    precision[i], recall[i], _ = precision_recall_curve(y_test2,y_pred_pro2)\n",
    "\n",
    "# Plot of a ROC curve for a specific class\n",
    "colors = ['b','g','r','k','c','m','y','#e24fff','#524C90','#845868']\n",
    "plt.figure()\n",
    "plt.plot([0, 1], [0, 1], 'k--')\n",
    "plt.xlim([0.0, 1.0])\n",
    "plt.ylim([0.0, 1.05])\n",
    "plt.xlabel('False Positive Rate')\n",
    "plt.ylabel('True Positive Rate')\n",
    "plt.title('Receiver operating characteristic')\n",
    "for i in range(10):\n",
    "    plt.plot(fpr[i], tpr[i], label=\"class\" + str(i) + ':ROC curve (area = %0.3f)' % roc_auc[i],color=colors[i])\n",
    "plt.legend(loc=\"lower right\")\n",
    "\n",
    "# Plot of a PR curve for a specific class\n",
    "colors = ['b','g','r','k','c','m','y','#e24fff','#524C90','#845868']\n",
    "plt.figure()\n",
    "plt.plot([0, 1], [0, 1], 'k--')\n",
    "plt.xlim([0.0, 1.0])\n",
    "plt.ylim([0.0, 1.05])\n",
    "plt.xlabel('Recall')\n",
    "plt.ylabel('Precision')\n",
    "plt.title('precision recall curve')\n",
    "for i in range(10):\n",
    "    plt.plot(recall[i], precision[i], label=\"class\" + str(i) + ':AP (score = %0.3f)' % average_precision[i],color=colors[i])\n",
    "plt.legend(loc=\"lower right\")"
   ]
  },
  {
   "cell_type": "markdown",
   "metadata": {
    "colab_type": "text",
    "id": "C2XD_O1se9hU"
   },
   "source": [
    "# 6.分类"
   ]
  },
  {
   "cell_type": "code",
   "execution_count": 0,
   "metadata": {
    "colab": {},
    "colab_type": "code",
    "id": "Jd1WRgrne9hV"
   },
   "outputs": [],
   "source": [
    "#训练模型\n",
    "pred_all = None\n",
    "model.eval() #模型转化为评估模式\n",
    "for X in test_loader:\n",
    "    X = Variable(X).cuda()\n",
    "    X = X.float()\n",
    "    testout = model(X)\n",
    "    _, pred = testout.max(1)\n",
    "    if pred_all is None:\n",
    "        pred_all = torch.cat([pred])\n",
    "    else:\n",
    "        pred_all = torch.cat([pred_all,pred])\n",
    "\n",
    "\n"
   ]
  },
  {
   "cell_type": "markdown",
   "metadata": {
    "colab_type": "text",
    "id": "0T5Gsedbe9hX"
   },
   "source": [
    "## 7. 结果输出"
   ]
  },
  {
   "cell_type": "code",
   "execution_count": 15,
   "metadata": {
    "colab": {
     "base_uri": "https://localhost:8080/",
     "height": 269
    },
    "colab_type": "code",
    "executionInfo": {
     "elapsed": 1727,
     "status": "ok",
     "timestamp": 1576669638707,
     "user": {
      "displayName": "zhikai wu",
      "photoUrl": "",
      "userId": "13886846646416832529"
     },
     "user_tz": -480
    },
    "id": "ZSRGxNVDe9hY",
    "outputId": "33f3921c-cf0d-4a6e-ccfa-757d97554644"
   },
   "outputs": [
    {
     "name": "stdout",
     "output_type": "stream",
     "text": [
      "         0  1\n",
      "0        0  7\n",
      "1        1  4\n",
      "2        2  3\n",
      "3        3  8\n",
      "4        4  1\n",
      "...    ... ..\n",
      "4995  4995  2\n",
      "4996  4996  5\n",
      "4997  4997  3\n",
      "4998  4998  7\n",
      "4999  4999  3\n",
      "\n",
      "[5000 rows x 2 columns]\n",
      "[7 4 3 ... 3 7 3]\n"
     ]
    }
   ],
   "source": [
    "#结果格式转化\n",
    "y_pred = pred_all.cpu().detach().numpy()\n",
    "y_imagid = np.arange(5000)\n",
    "y_result = np.vstack((y_imagid,y_pred))\n",
    "y_result = y_result.transpose()\n",
    "y_output = pd.DataFrame(y_result)\n",
    "print(y_output)\n",
    "y_output.columns = ['image_id', 'label']\n",
    "#csv存储\n",
    "y_output.to_csv('output.csv',index=False)\n",
    "print(y_pred)"
   ]
  }
 ],
 "metadata": {
  "accelerator": "GPU",
  "colab": {
   "collapsed_sections": [],
   "name": "MyNet_new.ipynb",
   "provenance": [],
   "toc_visible": true
  },
  "kernelspec": {
   "display_name": "Python 3",
   "language": "python",
   "name": "python3"
  },
  "language_info": {
   "codemirror_mode": {
    "name": "ipython",
    "version": 3
   },
   "file_extension": ".py",
   "mimetype": "text/x-python",
   "name": "python",
   "nbconvert_exporter": "python",
   "pygments_lexer": "ipython3",
   "version": "3.7.0"
  }
 },
 "nbformat": 4,
 "nbformat_minor": 1
}
